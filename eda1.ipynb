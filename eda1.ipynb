{
 "cells": [
  {
   "cell_type": "code",
   "execution_count": 1,
   "id": "ba79425b-6ce3-44ae-a597-37861eca2bba",
   "metadata": {
    "execution": {
     "iopub.execute_input": "2025-04-26T03:34:55.466956Z",
     "iopub.status.busy": "2025-04-26T03:34:55.465697Z",
     "iopub.status.idle": "2025-04-26T03:34:55.476238Z",
     "shell.execute_reply": "2025-04-26T03:34:55.474473Z",
     "shell.execute_reply.started": "2025-04-26T03:34:55.466888Z"
    }
   },
   "outputs": [
    {
     "name": "stdout",
     "output_type": "stream",
     "text": [
      "Successfully Imported\n"
     ]
    }
   ],
   "source": [
    "print('Successfully Imported')"
   ]
  },
  {
   "cell_type": "code",
   "execution_count": 31,
   "id": "95c923e3-989f-48b9-a40b-631598f9cecc",
   "metadata": {
    "execution": {
     "iopub.execute_input": "2025-04-26T04:16:09.921513Z",
     "iopub.status.busy": "2025-04-26T04:16:09.920910Z",
     "iopub.status.idle": "2025-04-26T04:16:10.627754Z",
     "shell.execute_reply": "2025-04-26T04:16:10.626502Z",
     "shell.execute_reply.started": "2025-04-26T04:16:09.921464Z"
    }
   },
   "outputs": [],
   "source": [
    "import pandas as pd\n",
    "import seaborn as sns\n",
    "from wordcloud import WordCloud\n",
    "import matplotlib.pyplot as plt"
   ]
  },
  {
   "cell_type": "code",
   "execution_count": 37,
   "id": "b720366c-5694-4b68-b8c4-de64d97acdbe",
   "metadata": {
    "execution": {
     "iopub.execute_input": "2025-04-26T04:45:25.745570Z",
     "iopub.status.busy": "2025-04-26T04:45:25.744891Z",
     "iopub.status.idle": "2025-04-26T04:45:25.758095Z",
     "shell.execute_reply": "2025-04-26T04:45:25.756631Z",
     "shell.execute_reply.started": "2025-04-26T04:45:25.745512Z"
    }
   },
   "outputs": [],
   "source": [
    "def show_rating_distribution(data):\n",
    "    # Create a figure with two subplots\n",
    "    # made with the help of DeepSeek\n",
    "\n",
    "    # Calculate missing values\n",
    "    missing_count = data.isna().sum()\n",
    "    \n",
    "    fig, (ax1, ax2) = plt.subplots(1, 2, figsize=(12, 5))\n",
    "    \n",
    "    sns.histplot(data, kde=True, ax=ax1)\n",
    "    ax1.set_title('IMDB Rating Histogram')\n",
    "    ax1.set_xlabel('IMDB Rating')\n",
    "    if ax1.get_legend():  # Safely remove legend if it exists\n",
    "        ax1.get_legend().set_visible(False)\n",
    "    \n",
    "    sns.boxplot(data, ax=ax2)\n",
    "    ax2.set_title('IMDB Rating Box Plot')\n",
    "    ax2.set_xlabel('Movies')\n",
    "    ax2.set_ylabel('Rating')\n",
    "\n",
    "    fig.suptitle(\"IMDB Rating Distribution\")\n",
    "\n",
    "    fig.text(0.1, 0.95, f'Missing data: {missing_count}', \n",
    "            ha='center', va='bottom', fontsize=10, color='gray')\n",
    "    \n",
    "    plt.tight_layout()\n",
    "    plt.show()"
   ]
  },
  {
   "cell_type": "code",
   "execution_count": 40,
   "id": "c2e0052f-3566-4f9f-88b9-f7ddde7e560d",
   "metadata": {
    "execution": {
     "iopub.execute_input": "2025-04-26T04:50:24.118466Z",
     "iopub.status.busy": "2025-04-26T04:50:24.117790Z",
     "iopub.status.idle": "2025-04-26T04:50:24.130636Z",
     "shell.execute_reply": "2025-04-26T04:50:24.129385Z",
     "shell.execute_reply.started": "2025-04-26T04:50:24.118408Z"
    }
   },
   "outputs": [],
   "source": [
    "def show_budget_hist(data):\n",
    "    # Create a figure with two subplots\n",
    "    # made with the help of DeepSeek\n",
    "\n",
    "    # Calculate missing values\n",
    "    missing_count = data.isna().sum()\n",
    "    \n",
    "    fig, (ax1, ax2) = plt.subplots(1, 2, figsize=(12, 5))\n",
    "    \n",
    "    sns.histplot(data, kde=True, ax=ax1)\n",
    "    ax1.set_title('Budget Histogram')\n",
    "    ax1.set_xlabel('Budget')\n",
    "    if ax1.get_legend():  # Safely remove legend if it exists\n",
    "        ax1.get_legend().set_visible(False)\n",
    "    \n",
    "    sns.boxplot(data, ax=ax2)\n",
    "    ax2.set_title('Budget Box Plot')\n",
    "    ax2.set_xlabel('Movies')\n",
    "    ax2.set_ylabel('Budget')\n",
    "\n",
    "    fig.suptitle(\"Budget Distribution\")\n",
    "\n",
    "    fig.text(0.1, 0.95, f'Missing data: {missing_count}', \n",
    "            ha='center', va='bottom', fontsize=10, color='gray')\n",
    "    \n",
    "    plt.tight_layout()\n",
    "    plt.show()"
   ]
  },
  {
   "cell_type": "code",
   "execution_count": null,
   "id": "66798566-7ed0-4eb1-9ca3-cacbe80d9e11",
   "metadata": {
    "execution": {
     "iopub.execute_input": "2025-04-26T05:39:05.851693Z",
     "iopub.status.busy": "2025-04-26T05:39:05.850998Z",
     "iopub.status.idle": "2025-04-26T05:39:05.868009Z",
     "shell.execute_reply": "2025-04-26T05:39:05.866747Z",
     "shell.execute_reply.started": "2025-04-26T05:39:05.851637Z"
    }
   },
   "outputs": [],
   "source": [
    "def show_mpa_hist(data):\n",
    "    # Given dictionary\n",
    "    Ratings = {\n",
    "        'G': 1,\n",
    "        'PG': 2,\n",
    "        'PG-13': 3,\n",
    "        'R': 4,\n",
    "        'NC-17': 5,\n",
    "        'No Certificate': 6\n",
    "    }\n",
    "    \n",
    "    # Inverse the dictionary (keys ↔ values)\n",
    "    inverse_ratings = {v: k for k, v in Ratings.items()}\n",
    "    \n",
    "    # Calculate missing values\n",
    "    missing_count = data.isna().sum()\n",
    "    \n",
    "    # Get unique values (excluding NaN) and map back to original labels\n",
    "    unique_numeric_vals = data.dropna().unique()\n",
    "    unique_labels = [inverse_ratings[val] for val in unique_numeric_vals]\n",
    "    \n",
    "    # Calculate counts for each unique value\n",
    "    counts = [(data == val).sum() for val in unique_numeric_vals]\n",
    "    \n",
    "    # Create DataFrame for plotting\n",
    "    import pandas as pd\n",
    "    plot_data = pd.DataFrame({\n",
    "        'MPAA Rating': unique_labels,\n",
    "        'Count': counts\n",
    "    })\n",
    "    \n",
    "    # Create figure and axis\n",
    "    import matplotlib.pyplot as plt\n",
    "    import seaborn as sns\n",
    "    fig, ax = plt.subplots(figsize=(10, 6))\n",
    "    \n",
    "    # Create the bar plot\n",
    "    sns.barplot(data=plot_data, x='MPAA Rating', y='Count', ax=ax, order=['G', 'PG', 'PG-13', 'R', 'NC-17', 'No Certificate'])\n",
    "    ax.set_title('MPA Rating Distribution')\n",
    "    ax.set_xlabel('MPA Rating')\n",
    "    ax.set_ylabel('Count')\n",
    "    \n",
    "    # Remove legend if present\n",
    "    if ax.get_legend():\n",
    "        ax.get_legend().remove()\n",
    "    \n",
    "    # Add missing data annotation\n",
    "    fig.text(0.1, 0.95, f'Missing data: {missing_count}', \n",
    "             ha='left', va='top', fontsize=10, color='gray')\n",
    "    \n",
    "    plt.tight_layout()\n",
    "    plt.show()"
   ]
  },
  {
   "cell_type": "code",
   "execution_count": 33,
   "id": "4d75beb9-80e9-4ea1-8642-fd56ec499fd9",
   "metadata": {
    "execution": {
     "iopub.execute_input": "2025-04-26T04:21:15.771358Z",
     "iopub.status.busy": "2025-04-26T04:21:15.770686Z",
     "iopub.status.idle": "2025-04-26T04:21:15.780854Z",
     "shell.execute_reply": "2025-04-26T04:21:15.779456Z",
     "shell.execute_reply.started": "2025-04-26T04:21:15.771302Z"
    }
   },
   "outputs": [],
   "source": [
    "def show_token_distribution(df):\n",
    "    # Sum TF-IDF scores for each token across all documents\n",
    "    word_weights = df.mean().to_dict()\n",
    "    # Generate the word cloud\n",
    "    wordcloud = WordCloud(\n",
    "        width=800, \n",
    "        height=400,\n",
    "        background_color='white'\n",
    "    ).generate_from_frequencies(word_weights)\n",
    "    \n",
    "    # Display the word cloud\n",
    "    plt.figure(figsize=(10, 6))\n",
    "    plt.imshow(wordcloud, interpolation='bilinear')\n",
    "    plt.axis('off')  # Hide axes\n",
    "    plt.show()"
   ]
  },
  {
   "cell_type": "code",
   "execution_count": 56,
   "id": "a1ffcabd-6aba-454d-bd3c-52eb8dde6feb",
   "metadata": {
    "execution": {
     "iopub.execute_input": "2025-04-26T06:54:48.198970Z",
     "iopub.status.busy": "2025-04-26T06:54:48.198227Z",
     "iopub.status.idle": "2025-04-26T06:54:48.220503Z",
     "shell.execute_reply": "2025-04-26T06:54:48.218840Z",
     "shell.execute_reply.started": "2025-04-26T06:54:48.198910Z"
    }
   },
   "outputs": [],
   "source": [
    "import matplotlib.pyplot as plt\n",
    "import seaborn as sns\n",
    "import numpy as np\n",
    "\n",
    "def plot_pareto_charts(df, feature_dict):\n",
    "    \"\"\"\n",
    "    Generates Pareto charts with consistent colors and proper subplot handling\n",
    "    \"\"\"\n",
    "    groups = ['Cast', 'Directors', 'Distributors', 'Producers', 'Genre']\n",
    "    valid_groups = [g for g in groups if feature_dict.get(g) and not df[feature_dict[g]].empty]\n",
    "    \n",
    "    if not valid_groups:\n",
    "        print(\"No valid data to plot\")\n",
    "        return None\n",
    "    \n",
    "    # Create only needed subplots\n",
    "    fig, axes = plt.subplots(len(valid_groups), 1, \n",
    "                            figsize=(14, 5 * len(valid_groups)),\n",
    "                            squeeze=False)\n",
    "    axes = axes.flatten()\n",
    "    \n",
    "    for idx, group in enumerate(valid_groups):\n",
    "        ax = axes[idx]\n",
    "        cols = feature_dict[group]\n",
    "        \n",
    "        # Calculate frequencies and sort\n",
    "        group_data = df[cols].sum().sort_values(ascending=False)\n",
    "        total = group_data.sum()\n",
    "        \n",
    "        if total == 0:\n",
    "            ax.remove()\n",
    "            continue\n",
    "            \n",
    "        # Get top 20 and cumulative percentages\n",
    "        top20 = group_data.head(20)\n",
    "        x_labels = [label[:20] + '...' if len(label) > 20 else label \n",
    "                   for label in top20.index]\n",
    "        cumulative_pct = (group_data.cumsum()/total * 100).head(20).values\n",
    "        \n",
    "        # Plot bars with original colors\n",
    "        sns.barplot(x=top20.index, y=top20.values, ax=ax, \n",
    "                   color='b', order=top20.index)\n",
    "        \n",
    "        # Configure main axis\n",
    "        ax.set_xticks(range(len(top20)))\n",
    "        ax.set_xticklabels(x_labels, rotation=45, ha='right', fontsize=9)\n",
    "        ax.tick_params(axis='x', pad=2)\n",
    "        ax.set_title(f'{group} Pareto Analysis', fontsize=13, pad=15)\n",
    "        ax.set_ylabel('Frequency', fontsize=10)\n",
    "        ax.set_xlabel('')\n",
    "        \n",
    "        # Cumulative percentage line\n",
    "        ax2 = ax.twinx()\n",
    "        ax2.plot(np.arange(len(top20)), cumulative_pct, \n",
    "                color='r', marker='o', ms=5, linewidth=1.5, alpha=0.8)\n",
    "        ax2.set_ylim(0, 105)\n",
    "        ax2.set_ylabel('Cumulative %', fontsize=10, color='r')\n",
    "        ax2.tick_params(axis='y', labelcolor='r')\n",
    "        \n",
    "        # Add light grid\n",
    "        ax.yaxis.grid(True, linestyle='--', alpha=0.3)\n",
    "    \n",
    "    # Remove empty axes\n",
    "    for j in range(len(valid_groups), len(axes)):\n",
    "        fig.delaxes(axes[j])\n",
    "        \n",
    "    plt.tight_layout()"
   ]
  },
  {
   "cell_type": "code",
   "execution_count": 57,
   "id": "223b4560-9b42-4531-9dcc-8bdcb2d4d17e",
   "metadata": {
    "execution": {
     "iopub.execute_input": "2025-04-26T08:02:15.976324Z",
     "iopub.status.busy": "2025-04-26T08:02:15.975647Z",
     "iopub.status.idle": "2025-04-26T08:02:15.989031Z",
     "shell.execute_reply": "2025-04-26T08:02:15.987561Z",
     "shell.execute_reply.started": "2025-04-26T08:02:15.976268Z"
    }
   },
   "outputs": [],
   "source": [
    "def show_runtime_distribution(data):\n",
    "    # Create a figure with two subplots\n",
    "    # made with the help of DeepSeek\n",
    "\n",
    "    # Calculate missing values\n",
    "    missing_count = data.isna().sum()\n",
    "    \n",
    "    fig, (ax1, ax2) = plt.subplots(1, 2, figsize=(12, 5))\n",
    "    \n",
    "    sns.histplot(data, kde=True, ax=ax1)\n",
    "    ax1.set_title('Runtime Histogram')\n",
    "    ax1.set_xlabel('Runtime')\n",
    "    if ax1.get_legend():  # Safely remove legend if it exists\n",
    "        ax1.get_legend().set_visible(False)\n",
    "    \n",
    "    sns.boxplot(data, ax=ax2)\n",
    "    ax2.set_title('Runtime Box Plot')\n",
    "    ax2.set_xlabel('Movies')\n",
    "    ax2.set_ylabel('Runtime')\n",
    "\n",
    "    fig.suptitle(\"Runtime Distribution\")\n",
    "\n",
    "    fig.text(0.1, 0.95, f'Missing data: {missing_count}', \n",
    "            ha='center', va='bottom', fontsize=10, color='gray')\n",
    "    \n",
    "    plt.tight_layout()\n",
    "    plt.show()"
   ]
  },
  {
   "cell_type": "code",
   "execution_count": null,
   "id": "83d01fb5-201c-420c-8b1a-c1e4315e6881",
   "metadata": {},
   "outputs": [],
   "source": []
  }
 ],
 "metadata": {
  "kernelspec": {
   "display_name": "Python [conda env:base] *",
   "language": "python",
   "name": "conda-base-py"
  },
  "language_info": {
   "codemirror_mode": {
    "name": "ipython",
    "version": 3
   },
   "file_extension": ".py",
   "mimetype": "text/x-python",
   "name": "python",
   "nbconvert_exporter": "python",
   "pygments_lexer": "ipython3",
   "version": "3.12.8"
  }
 },
 "nbformat": 4,
 "nbformat_minor": 5
}
