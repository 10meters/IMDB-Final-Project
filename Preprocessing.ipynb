{
 "cells": [
  {
   "cell_type": "markdown",
   "id": "233c5588-a35c-463f-a2a0-e4b53a0baaf2",
   "metadata": {},
   "source": [
    "1. Data Scraping\n",
    "\n",
    "We collect the top *n* movies sorted by year with the following criteria:\n",
    "- Have atleast 1000 reviews\n",
    "- Is a Movie (Not a series)\n",
    "- Is in English"
   ]
  },
  {
   "cell_type": "code",
   "execution_count": 48,
   "id": "b4df7c3c-f309-4016-9815-b48c1ab04a3d",
   "metadata": {
    "execution": {
     "iopub.execute_input": "2025-04-25T02:34:24.065990Z",
     "iopub.status.busy": "2025-04-25T02:34:24.064460Z",
     "iopub.status.idle": "2025-04-25T02:34:24.072023Z",
     "shell.execute_reply": "2025-04-25T02:34:24.070614Z",
     "shell.execute_reply.started": "2025-04-25T02:34:24.065938Z"
    }
   },
   "outputs": [],
   "source": [
    "import os\n",
    "import pandas as pd\n",
    "import requests, zipfile, io"
   ]
  },
  {
   "cell_type": "code",
   "execution_count": 25,
   "id": "876aec82-8925-4f32-9b77-16f104561af8",
   "metadata": {
    "execution": {
     "iopub.execute_input": "2025-04-25T01:27:25.626099Z",
     "iopub.status.busy": "2025-04-25T01:27:25.625156Z",
     "iopub.status.idle": "2025-04-25T01:27:25.636733Z",
     "shell.execute_reply": "2025-04-25T01:27:25.635106Z",
     "shell.execute_reply.started": "2025-04-25T01:27:25.626034Z"
    }
   },
   "outputs": [],
   "source": [
    "notebooks = [1,2,3,4,5]\n",
    "\n",
    "#Run the web scraping notebooks if the csv data doesnt exist\n",
    "for notebook in notebooks:\n",
    "    notebook_pth = f'new_features_only_{notebook}.ipynb'\n",
    "    data = f'raw{notebook}.csv'\n",
    "    n = f'test.ipynb'\n",
    "\n",
    "    if not os.path.exists(data):\n",
    "        %run $notebook_pth"
   ]
  },
  {
   "cell_type": "code",
   "execution_count": 31,
   "id": "30e52b61-81ee-43aa-8702-a9d2fa9c13f9",
   "metadata": {
    "execution": {
     "iopub.execute_input": "2025-04-25T01:30:28.631868Z",
     "iopub.status.busy": "2025-04-25T01:30:28.630486Z",
     "iopub.status.idle": "2025-04-25T01:30:28.778624Z",
     "shell.execute_reply": "2025-04-25T01:30:28.777065Z",
     "shell.execute_reply.started": "2025-04-25T01:30:28.631806Z"
    }
   },
   "outputs": [],
   "source": [
    "#concatenate every data\n",
    "full_data = pd.read_csv('raw1.csv')\n",
    "\n",
    "for notebook in range(2, 5+1):\n",
    "    data = f'raw{notebook}.csv'\n",
    "    partial_data = pd.read_csv(data)\n",
    "    full_data = pd.concat([full_data,partial_data], ignore_index=True)"
   ]
  },
  {
   "cell_type": "code",
   "execution_count": 70,
   "id": "e4203685-1ab1-42ad-9358-6e37bff413b3",
   "metadata": {
    "execution": {
     "iopub.execute_input": "2025-04-25T02:57:54.662540Z",
     "iopub.status.busy": "2025-04-25T02:57:54.661356Z",
     "iopub.status.idle": "2025-04-25T02:57:54.690290Z",
     "shell.execute_reply": "2025-04-25T02:57:54.688646Z",
     "shell.execute_reply.started": "2025-04-25T02:57:54.662479Z"
    }
   },
   "outputs": [
    {
     "data": {
      "text/html": [
       "<div>\n",
       "<style scoped>\n",
       "    .dataframe tbody tr th:only-of-type {\n",
       "        vertical-align: middle;\n",
       "    }\n",
       "\n",
       "    .dataframe tbody tr th {\n",
       "        vertical-align: top;\n",
       "    }\n",
       "\n",
       "    .dataframe thead th {\n",
       "        text-align: right;\n",
       "    }\n",
       "</style>\n",
       "<table border=\"1\" class=\"dataframe\">\n",
       "  <thead>\n",
       "    <tr style=\"text-align: right;\">\n",
       "      <th></th>\n",
       "      <th>Unnamed: 0</th>\n",
       "      <th>Title</th>\n",
       "      <th>Year</th>\n",
       "      <th>Plot</th>\n",
       "      <th>Rating</th>\n",
       "      <th>Budget</th>\n",
       "      <th>Cast</th>\n",
       "      <th>MPA Rating</th>\n",
       "      <th>Directors</th>\n",
       "      <th>Distributors</th>\n",
       "      <th>Producers</th>\n",
       "      <th>Genre</th>\n",
       "      <th>Runtime in Minutes</th>\n",
       "    </tr>\n",
       "  </thead>\n",
       "  <tbody>\n",
       "    <tr>\n",
       "      <th>0</th>\n",
       "      <td>0</td>\n",
       "      <td>1. Whiplash</td>\n",
       "      <td>2014</td>\n",
       "      <td>A promising young drummer enrolls at a cut-thr...</td>\n",
       "      <td>8.5</td>\n",
       "      <td>$3,300,000 (estimated)</td>\n",
       "      <td>Miles Teller,J.K. Simmons,Paul Reiser,Melissa ...</td>\n",
       "      <td>TV-14</td>\n",
       "      <td>Damien Chazelle</td>\n",
       "      <td>Sony Pictures Classics,Sony Pictures Worldwide...</td>\n",
       "      <td>Bold Films,Blumhouse Productions,Right of Way ...</td>\n",
       "      <td>Drama,Music</td>\n",
       "      <td>106</td>\n",
       "    </tr>\n",
       "    <tr>\n",
       "      <th>1</th>\n",
       "      <td>1</td>\n",
       "      <td>2. RoboCop</td>\n",
       "      <td>2014</td>\n",
       "      <td>In 2028 Detroit, when Alex Murphy, a loving hu...</td>\n",
       "      <td>6.1</td>\n",
       "      <td>$100,000,000 (estimated)</td>\n",
       "      <td>Joel Kinnaman,Gary Oldman,Michael Keaton,Abbie...</td>\n",
       "      <td>TV-14</td>\n",
       "      <td>José Padilha</td>\n",
       "      <td>Columbia Pictures,ACME,ACME,ACME,B&amp;H Film Dist...</td>\n",
       "      <td>Metro-Goldwyn-Mayer (MGM),Columbia Pictures,St...</td>\n",
       "      <td>Action,Crime,Sci-Fi,Thriller</td>\n",
       "      <td>117</td>\n",
       "    </tr>\n",
       "    <tr>\n",
       "      <th>2</th>\n",
       "      <td>2</td>\n",
       "      <td>3. The Babadook</td>\n",
       "      <td>2014</td>\n",
       "      <td>A single mother and her child fall into a deep...</td>\n",
       "      <td>6.8</td>\n",
       "      <td>$2,000,000 (estimated)</td>\n",
       "      <td>Essie Davis,Noah Wiseman,Hayley McElhinney,Dan...</td>\n",
       "      <td>Not</td>\n",
       "      <td>Jennifer Kent</td>\n",
       "      <td>Capelight Pictures,Cinecolor Films,Feelgood En...</td>\n",
       "      <td>Screen Australia,Causeway Films,The South Aust...</td>\n",
       "      <td>Drama,Horror,Mystery</td>\n",
       "      <td>94</td>\n",
       "    </tr>\n",
       "    <tr>\n",
       "      <th>3</th>\n",
       "      <td>3</td>\n",
       "      <td>4. What We Do in the Shadows</td>\n",
       "      <td>2014</td>\n",
       "      <td>Viago, Deacon, and Vladislav are vampires who ...</td>\n",
       "      <td>7.6</td>\n",
       "      <td>$1,600,000 (estimated)</td>\n",
       "      <td>Jemaine Clement,Taika Waititi,Jonny Brugh,Cori...</td>\n",
       "      <td>R</td>\n",
       "      <td>Jemaine Clement,Taika Waititi</td>\n",
       "      <td>Benuca Films,Cinetren,Festival Films / Yedra F...</td>\n",
       "      <td>Unison Films,Defender Films,Park Road Post Pro...</td>\n",
       "      <td>Comedy,Horror</td>\n",
       "      <td>86</td>\n",
       "    </tr>\n",
       "    <tr>\n",
       "      <th>4</th>\n",
       "      <td>4</td>\n",
       "      <td>5. Boyhood</td>\n",
       "      <td>2014</td>\n",
       "      <td>The life of Mason, from early childhood to his...</td>\n",
       "      <td>7.9</td>\n",
       "      <td>$4,000,000 (estimated)</td>\n",
       "      <td>Ellar Coltrane,Patricia Arquette,Elijah Smith,...</td>\n",
       "      <td>TV-14</td>\n",
       "      <td>Richard Linklater</td>\n",
       "      <td>Diaphana Distribution,IFC Films,Lumière,Lumièr...</td>\n",
       "      <td>IFC Productions,Detour Filmproduction</td>\n",
       "      <td>Drama</td>\n",
       "      <td>165</td>\n",
       "    </tr>\n",
       "  </tbody>\n",
       "</table>\n",
       "</div>"
      ],
      "text/plain": [
       "   Unnamed: 0                         Title  Year  \\\n",
       "0           0                   1. Whiplash  2014   \n",
       "1           1                    2. RoboCop  2014   \n",
       "2           2               3. The Babadook  2014   \n",
       "3           3  4. What We Do in the Shadows  2014   \n",
       "4           4                    5. Boyhood  2014   \n",
       "\n",
       "                                                Plot  Rating  \\\n",
       "0  A promising young drummer enrolls at a cut-thr...     8.5   \n",
       "1  In 2028 Detroit, when Alex Murphy, a loving hu...     6.1   \n",
       "2  A single mother and her child fall into a deep...     6.8   \n",
       "3  Viago, Deacon, and Vladislav are vampires who ...     7.6   \n",
       "4  The life of Mason, from early childhood to his...     7.9   \n",
       "\n",
       "                     Budget  \\\n",
       "0    $3,300,000 (estimated)   \n",
       "1  $100,000,000 (estimated)   \n",
       "2    $2,000,000 (estimated)   \n",
       "3    $1,600,000 (estimated)   \n",
       "4    $4,000,000 (estimated)   \n",
       "\n",
       "                                                Cast MPA Rating  \\\n",
       "0  Miles Teller,J.K. Simmons,Paul Reiser,Melissa ...      TV-14   \n",
       "1  Joel Kinnaman,Gary Oldman,Michael Keaton,Abbie...      TV-14   \n",
       "2  Essie Davis,Noah Wiseman,Hayley McElhinney,Dan...        Not   \n",
       "3  Jemaine Clement,Taika Waititi,Jonny Brugh,Cori...          R   \n",
       "4  Ellar Coltrane,Patricia Arquette,Elijah Smith,...      TV-14   \n",
       "\n",
       "                       Directors  \\\n",
       "0                Damien Chazelle   \n",
       "1                   José Padilha   \n",
       "2                  Jennifer Kent   \n",
       "3  Jemaine Clement,Taika Waititi   \n",
       "4              Richard Linklater   \n",
       "\n",
       "                                        Distributors  \\\n",
       "0  Sony Pictures Classics,Sony Pictures Worldwide...   \n",
       "1  Columbia Pictures,ACME,ACME,ACME,B&H Film Dist...   \n",
       "2  Capelight Pictures,Cinecolor Films,Feelgood En...   \n",
       "3  Benuca Films,Cinetren,Festival Films / Yedra F...   \n",
       "4  Diaphana Distribution,IFC Films,Lumière,Lumièr...   \n",
       "\n",
       "                                           Producers  \\\n",
       "0  Bold Films,Blumhouse Productions,Right of Way ...   \n",
       "1  Metro-Goldwyn-Mayer (MGM),Columbia Pictures,St...   \n",
       "2  Screen Australia,Causeway Films,The South Aust...   \n",
       "3  Unison Films,Defender Films,Park Road Post Pro...   \n",
       "4              IFC Productions,Detour Filmproduction   \n",
       "\n",
       "                          Genre  Runtime in Minutes  \n",
       "0                   Drama,Music                 106  \n",
       "1  Action,Crime,Sci-Fi,Thriller                 117  \n",
       "2          Drama,Horror,Mystery                  94  \n",
       "3                 Comedy,Horror                  86  \n",
       "4                         Drama                 165  "
      ]
     },
     "execution_count": 70,
     "metadata": {},
     "output_type": "execute_result"
    }
   ],
   "source": [
    "full_data.head()"
   ]
  },
  {
   "cell_type": "code",
   "execution_count": 34,
   "id": "54de172d-6ea7-46a8-8d72-d1f028d7d34c",
   "metadata": {
    "execution": {
     "iopub.execute_input": "2025-04-25T01:31:23.586144Z",
     "iopub.status.busy": "2025-04-25T01:31:23.585435Z",
     "iopub.status.idle": "2025-04-25T01:31:23.962461Z",
     "shell.execute_reply": "2025-04-25T01:31:23.961538Z",
     "shell.execute_reply.started": "2025-04-25T01:31:23.586085Z"
    }
   },
   "outputs": [
    {
     "name": "stdout",
     "output_type": "stream",
     "text": [
      "DONE compiling\n"
     ]
    }
   ],
   "source": [
    "full_data.to_csv(\"raw_complete.csv\")\n",
    "print(\"DONE compiling\")"
   ]
  },
  {
   "cell_type": "code",
   "execution_count": 63,
   "id": "ec3ff63f-aa3b-4f9e-a18c-6bbeb0c2d55f",
   "metadata": {
    "execution": {
     "iopub.execute_input": "2025-04-25T02:43:26.819942Z",
     "iopub.status.busy": "2025-04-25T02:43:26.818327Z",
     "iopub.status.idle": "2025-04-25T02:43:27.661509Z",
     "shell.execute_reply": "2025-04-25T02:43:27.660190Z",
     "shell.execute_reply.started": "2025-04-25T02:43:26.819875Z"
    }
   },
   "outputs": [],
   "source": [
    "if not os.path.exists('deflators.csv'):\n",
    "    deflators = requests.get(\"https://api.worldbank.org/v2/en/indicator/NY.GDP.DEFL.ZS?downloadformat=csv\", allow_redirects=True)\n",
    "    unzipped = zipfile.ZipFile(io.BytesIO(deflators.content))\n",
    "    file = 'API_NY.GDP.DEFL.ZS_DS2_en_csv_v2_22116.csv'\n",
    "\n",
    "    with unzipped.open(file) as f:\n",
    "        df_deflators = pd.read_csv(f, skiprows=4)\n",
    "    usd_row = df_deflators[df_deflators['Country Code'] == 'USA']\n",
    "    usd_row.to_csv('deflators.csv')"
   ]
  }
 ],
 "metadata": {
  "kernelspec": {
   "display_name": "Python [conda env:base] *",
   "language": "python",
   "name": "conda-base-py"
  },
  "language_info": {
   "codemirror_mode": {
    "name": "ipython",
    "version": 3
   },
   "file_extension": ".py",
   "mimetype": "text/x-python",
   "name": "python",
   "nbconvert_exporter": "python",
   "pygments_lexer": "ipython3",
   "version": "3.12.8"
  }
 },
 "nbformat": 4,
 "nbformat_minor": 5
}
